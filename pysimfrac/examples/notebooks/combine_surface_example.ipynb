{
 "cells": [
  {
   "cell_type": "markdown",
   "id": "65dc0225",
   "metadata": {},
   "source": [
    "# Combine Surface Example\n",
    "Date: 23 June 2023\n",
    "\n",
    "Author: Jeffrey Hyman\n",
    "\n",
    "Version: v0.2 "
   ]
  },
  {
   "cell_type": "code",
   "execution_count": null,
   "id": "8d3271ca",
   "metadata": {},
   "outputs": [],
   "source": [
    "from pysimfrac import *"
   ]
  },
  {
   "cell_type": "code",
   "execution_count": null,
   "id": "8713130e",
   "metadata": {},
   "outputs": [],
   "source": [
    "## Create the spectral surface \n",
    "Spectral = SimFrac(h = 0.01, lx = 3, ly = 3, \n",
    "                 method = \"spectral\",\n",
    "                 units = 'mm')\n",
    "Spectral.params[\"H\"][\"value\"] = 0.5\n",
    "Spectral.params[\"roughness\"][\"value\"] = 0.1\n",
    "Spectral.params[\"aniso\"][\"value\"] = 0.5\n",
    "Spectral.params[\"mismatch\"][\"value\"] = 0.1\n",
    "Spectral.params[\"model\"][\"value\"] = \"linear\"\n",
    "Spectral.create_fracture() "
   ]
  },
  {
   "cell_type": "code",
   "execution_count": null,
   "id": "025e5d9a",
   "metadata": {},
   "outputs": [],
   "source": [
    "Gaussian = SimFrac(method = \"gaussian\", h = 0.01, lx = 3, ly = 3)\n",
    "\n",
    "Gaussian.params[\"mean-aperture\"][\"value\"] = 0.5\n",
    "Gaussian.params[\"aperture-log-variance\"][\"value\"] = 0.01\n",
    "Gaussian.params[\"lambda_x\"][\"value\"] = 0.15\n",
    "Gaussian.params[\"lambda_y\"][\"value\"] = 0.25\n",
    "Gaussian.shear = 0.5\n",
    "Gaussian.create_fracture()"
   ]
  },
  {
   "cell_type": "code",
   "execution_count": null,
   "id": "b5444dc8",
   "metadata": {},
   "outputs": [],
   "source": [
    "Combined = Spectral.combine_fractures([Gaussian], [0.4, 0.6])\n"
   ]
  },
  {
   "cell_type": "code",
   "execution_count": null,
   "id": "a8658f74",
   "metadata": {},
   "outputs": [],
   "source": [
    "Combined.plot_surface()\n",
    "Combined.plot_aperture_field()\n"
   ]
  },
  {
   "cell_type": "code",
   "execution_count": null,
   "id": "8b10b2eb",
   "metadata": {},
   "outputs": [],
   "source": [
    "Combined.compute_acf()\n",
    "fig,ax = Combined.plot_acf()"
   ]
  },
  {
   "cell_type": "code",
   "execution_count": null,
   "id": "b872cf7b",
   "metadata": {},
   "outputs": [],
   "source": [
    "Combined.compute_moments()\n",
    "fig,ax = Combined.plot_surface_pdf()"
   ]
  },
  {
   "cell_type": "code",
   "execution_count": null,
   "id": "680c4620",
   "metadata": {},
   "outputs": [],
   "source": [
    "Combined.compute_variogram(max_lag = 100, num_lags = 50, num_samples = 1000)\n",
    "fig,ax = Combined.plot_variogram()"
   ]
  },
  {
   "cell_type": "code",
   "execution_count": null,
   "id": "845c48b6",
   "metadata": {},
   "outputs": [],
   "source": []
  },
  {
   "cell_type": "code",
   "execution_count": null,
   "id": "70f3ab27",
   "metadata": {},
   "outputs": [],
   "source": []
  }
 ],
 "metadata": {
  "kernelspec": {
   "display_name": "Python 3 (ipykernel)",
   "language": "python",
   "name": "python3"
  },
  "language_info": {
   "codemirror_mode": {
    "name": "ipython",
    "version": 3
   },
   "file_extension": ".py",
   "mimetype": "text/x-python",
   "name": "python",
   "nbconvert_exporter": "python",
   "pygments_lexer": "ipython3",
   "version": "3.9.12"
  }
 },
 "nbformat": 4,
 "nbformat_minor": 5
}
