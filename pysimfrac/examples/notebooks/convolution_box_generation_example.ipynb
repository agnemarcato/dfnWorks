{
 "cells": [
  {
   "cell_type": "markdown",
   "id": "a3db1fa7",
   "metadata": {},
   "source": [
    "#  Convolution - Box Generation Method Example\n",
    "Date: 23 June 2023\n",
    "\n",
    "Author: Jeffrey Hyman <jhyman@lanl.gov>\n",
    "\n",
    "Version: SimFrac v0.2"
   ]
  },
  {
   "cell_type": "code",
   "execution_count": null,
   "id": "fd49fe1d",
   "metadata": {},
   "outputs": [],
   "source": [
    "# import the SimFrac Module\n",
    "from pysimfrac import *"
   ]
  },
  {
   "cell_type": "markdown",
   "id": "3e48daa6",
   "metadata": {},
   "source": [
    "## Create Fracture"
   ]
  },
  {
   "cell_type": "code",
   "execution_count": null,
   "id": "e5b35cbf",
   "metadata": {
    "scrolled": false
   },
   "outputs": [],
   "source": [
    "# initialize the surface object\n",
    "myfrac = SimFrac(h = 0.01, lx = 2, ly = 2, \n",
    "                 method = \"box\", units = 'mm',\n",
    "                 shear = 1\n",
    "                )\n",
    "# set the parameters for the Box method\n",
    "myfrac.params['mean-aperture']['value'] = 2\n",
    "myfrac.params['aperture-log-variance']['value'] = 0.2\n",
    "\n",
    "myfrac.params['lambda_x']['value'] = 0.4\n",
    "myfrac.params['lambda_y']['value'] = 0.3\n",
    "myfrac.params['seed']['value'] = 1\n",
    "\n",
    "# create the fracture\n",
    "myfrac.create_fracture()"
   ]
  },
  {
   "cell_type": "markdown",
   "id": "333e238d",
   "metadata": {},
   "source": [
    "# plot surface and aperture "
   ]
  },
  {
   "cell_type": "code",
   "execution_count": null,
   "id": "60cb9ca6",
   "metadata": {
    "scrolled": false
   },
   "outputs": [],
   "source": [
    "fig,ax = myfrac.plot_surface()"
   ]
  },
  {
   "cell_type": "code",
   "execution_count": null,
   "id": "3318bea1",
   "metadata": {},
   "outputs": [],
   "source": [
    "fig,ax = myfrac.plot_aperture_field()"
   ]
  },
  {
   "cell_type": "markdown",
   "id": "490b219b",
   "metadata": {},
   "source": [
    "# Compute some geostats"
   ]
  },
  {
   "cell_type": "markdown",
   "id": "0f51d129",
   "metadata": {},
   "source": [
    "##  Autocorrelation function"
   ]
  },
  {
   "cell_type": "code",
   "execution_count": null,
   "id": "b9500ffb",
   "metadata": {},
   "outputs": [],
   "source": [
    "myfrac.compute_acf()\n",
    "fig,ax = myfrac.plot_acf()"
   ]
  },
  {
   "cell_type": "markdown",
   "id": "bbe61edc",
   "metadata": {},
   "source": [
    "## Moments and surface PDFs"
   ]
  },
  {
   "cell_type": "code",
   "execution_count": null,
   "id": "ca6dae45",
   "metadata": {},
   "outputs": [],
   "source": [
    "myfrac.compute_moments()\n",
    "fig,ax = myfrac.plot_surface_pdf()"
   ]
  },
  {
   "cell_type": "markdown",
   "id": "a04f6794",
   "metadata": {},
   "source": [
    "## Variogram"
   ]
  },
  {
   "cell_type": "code",
   "execution_count": null,
   "id": "bd182499",
   "metadata": {},
   "outputs": [],
   "source": [
    "myfrac.compute_variogram(max_lag = 50, num_lags = 100, num_samples = 1000)\n",
    "fig,ax = myfrac.plot_variogram()"
   ]
  },
  {
   "cell_type": "code",
   "execution_count": null,
   "id": "2ba39112",
   "metadata": {},
   "outputs": [],
   "source": []
  },
  {
   "cell_type": "code",
   "execution_count": null,
   "id": "e79ae68d",
   "metadata": {},
   "outputs": [],
   "source": []
  }
 ],
 "metadata": {
  "kernelspec": {
   "display_name": "Python 3 (ipykernel)",
   "language": "python",
   "name": "python3"
  },
  "language_info": {
   "codemirror_mode": {
    "name": "ipython",
    "version": 3
   },
   "file_extension": ".py",
   "mimetype": "text/x-python",
   "name": "python",
   "nbconvert_exporter": "python",
   "pygments_lexer": "ipython3",
   "version": "3.9.12"
  }
 },
 "nbformat": 4,
 "nbformat_minor": 5
}
