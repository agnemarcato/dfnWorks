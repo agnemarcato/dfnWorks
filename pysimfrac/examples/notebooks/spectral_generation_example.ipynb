{
 "cells": [
  {
   "cell_type": "markdown",
   "id": "a3db1fa7",
   "metadata": {},
   "source": [
    "#  Spectral Generation Method Example\n",
    "Date: 23 June 2023\n",
    "Author: Jeffrey Hyman <jhyman@lanl.gov>"
   ]
  },
  {
   "cell_type": "code",
   "execution_count": null,
   "id": "fd49fe1d",
   "metadata": {},
   "outputs": [],
   "source": [
    "# import the SimFrac Module\n",
    "from pysimfrac import *"
   ]
  },
  {
   "cell_type": "markdown",
   "id": "3e48daa6",
   "metadata": {},
   "source": [
    "## Create Fracture"
   ]
  },
  {
   "cell_type": "code",
   "execution_count": null,
   "id": "e5b35cbf",
   "metadata": {
    "scrolled": false
   },
   "outputs": [],
   "source": [
    "# initialize the surface object\n",
    "myfrac = SimFrac(h = 0.01, lx = 5, ly = 3, \n",
    "                 method = \"spectral\", units = 'mm')\n",
    "# set the parameters for the spectral method\n",
    "myfrac.params['H']['value'] = 0.5\n",
    "myfrac.params['mean-aperture']['value'] = 2\n",
    "myfrac.params['roughness']['value'] = 0.2\n",
    "myfrac.params['seed']['value'] = 100 \n",
    "myfrac.params['mismatch']['value'] = 0.1\n",
    "\n",
    "# create the fracture\n",
    "myfrac.create_fracture()"
   ]
  },
  {
   "cell_type": "markdown",
   "id": "333e238d",
   "metadata": {},
   "source": [
    "# Plot surface and aperture "
   ]
  },
  {
   "cell_type": "code",
   "execution_count": null,
   "id": "60cb9ca6",
   "metadata": {
    "scrolled": false
   },
   "outputs": [],
   "source": [
    "myfrac.plot_surface()\n",
    "myfrac.plot_aperture_field()"
   ]
  },
  {
   "cell_type": "markdown",
   "id": "490b219b",
   "metadata": {},
   "source": [
    "# Compute some geostats"
   ]
  },
  {
   "cell_type": "markdown",
   "id": "0f51d129",
   "metadata": {},
   "source": [
    "##  Autocorrelation function"
   ]
  },
  {
   "cell_type": "code",
   "execution_count": null,
   "id": "b9500ffb",
   "metadata": {},
   "outputs": [],
   "source": [
    "myfrac.compute_acf()\n",
    "fig,ax = myfrac.plot_acf()"
   ]
  },
  {
   "cell_type": "markdown",
   "id": "bbe61edc",
   "metadata": {},
   "source": [
    "## Moments and surface PDFs"
   ]
  },
  {
   "cell_type": "code",
   "execution_count": null,
   "id": "ca6dae45",
   "metadata": {},
   "outputs": [],
   "source": [
    "myfrac.compute_moments()\n",
    "fig,ax = myfrac.plot_surface_pdf()"
   ]
  },
  {
   "cell_type": "markdown",
   "id": "a04f6794",
   "metadata": {},
   "source": [
    "## Variogram"
   ]
  },
  {
   "cell_type": "code",
   "execution_count": null,
   "id": "bd182499",
   "metadata": {},
   "outputs": [],
   "source": [
    "myfrac.compute_variogram(max_lag = 200, num_lags = 50, num_samples = 1000)\n",
    "fig,ax = myfrac.plot_variogram()"
   ]
  }
 ],
 "metadata": {
  "kernelspec": {
   "display_name": "Python 3 (ipykernel)",
   "language": "python",
   "name": "python3"
  },
  "language_info": {
   "codemirror_mode": {
    "name": "ipython",
    "version": 3
   },
   "file_extension": ".py",
   "mimetype": "text/x-python",
   "name": "python",
   "nbconvert_exporter": "python",
   "pygments_lexer": "ipython3",
   "version": "3.9.12"
  }
 },
 "nbformat": 4,
 "nbformat_minor": 5
}
